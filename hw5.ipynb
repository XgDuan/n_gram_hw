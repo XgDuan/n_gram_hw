{
 "cells": [
  {
   "cell_type": "code",
   "execution_count": 45,
   "metadata": {
    "collapsed": true
   },
   "outputs": [],
   "source": [
    "import os\n",
    "import math\n",
    "from collections import Counter, defaultdict\n",
    "from itertools import chain\n",
    "from functools import reduce\n",
    "import re\n",
    "import random\n",
    "\n",
    "import matplotlib.pyplot as plt\n",
    "%matplotlib inline"
   ]
  },
  {
   "cell_type": "markdown",
   "metadata": {},
   "source": [
    "## DATASET PATH"
   ]
  },
  {
   "cell_type": "code",
   "execution_count": 46,
   "metadata": {
    "collapsed": true
   },
   "outputs": [],
   "source": [
    "data_dir = 'datas/train/'"
   ]
  },
  {
   "cell_type": "markdown",
   "metadata": {},
   "source": [
    "## helper functions"
   ]
  },
  {
   "cell_type": "code",
   "execution_count": 47,
   "metadata": {},
   "outputs": [
    {
     "name": "stdout",
     "output_type": "stream",
     "text": [
      "[('年根儿/n', '了/y'), ('一张张/m', '贺卡/n'), ('飞越/v', '关山/n'), ('【新华社', '1月12日'), ('1月12日', '电】')]\n"
     ]
    }
   ],
   "source": [
    "def word_split_pos(line):\n",
    "    \"\"\"\n",
    "    line: a line of words\n",
    "    \"\"\"\n",
    "    # return line.split()  \n",
    "    return line.split()\n",
    "\n",
    "def word_split(line):\n",
    "    \"\"\"\n",
    "    line: a line of words\n",
    "    \"\"\"\n",
    "    # 我们认为数字是单独的词\n",
    "    # return re.findall(r'[\\u4e00-\\u9fa5，。、；！：（）《》“”？—_\\d]+', line)\n",
    "    return re.findall(r'[\\u4e00-\\u9fa5，。、；！：（）《》“”？—_]+|\\d+', line)\n",
    "    \n",
    "def bigram_construct(words):\n",
    "    \"\"\"\n",
    "    words: [w1, w2, w3..]\n",
    "    \"\"\"\n",
    "    bigrams = list(zip(words[:-1], words[1:]))\n",
    "    res = []\n",
    "    for bigram in bigrams:  # 移除包含标点的bigram\n",
    "        if re.match(r'[，。、；！：（）《》“”？—_]+', bigram[0]) or re.match(r'[，。、；！：（）《》“”？—_]+', bigram[1]):\n",
    "            continue\n",
    "        res.append(bigram)\n",
    "    return res\n",
    "\n",
    "# 我们允许数字+汉字的词性搭配\n",
    "print(bigram_construct(word_split_pos('年根儿/n  了/y  ，/w  一张张/m  贺卡/n  ，/w  飞越/v  关山/n 。/m 【新华社 1月12日 电】')))"
   ]
  },
  {
   "cell_type": "markdown",
   "metadata": {},
   "source": [
    "## 1. 频率方法\n",
    "### 1.a 不考虑词性的频率方法"
   ]
  },
  {
   "cell_type": "code",
   "execution_count": 48,
   "metadata": {},
   "outputs": [
    {
     "data": {
      "text/plain": [
       "[(('１', '月'), 1467),\n",
       " (('日', '电'), 848),\n",
       " (('的', '一'), 670),\n",
       " (('１９９７', '年'), 644),\n",
       " (('新', '的'), 597),\n",
       " (('这', '一'), 538),\n",
       " (('这', '是'), 456),\n",
       " (('两', '国'), 451),\n",
       " (('的', '发展'), 440),\n",
       " (('一', '年'), 429)]"
      ]
     },
     "execution_count": 48,
     "metadata": {},
     "output_type": "execute_result"
    }
   ],
   "source": [
    "def word_counter(data_dir):\n",
    "    filenames = os.listdir(data_dir)\n",
    "    bigram_counter = Counter()\n",
    "    for filename in filenames:\n",
    "        with open(os.path.join(data_dir, filename), 'r') as F:\n",
    "            for line in F.readlines():\n",
    "                words = word_split(line)\n",
    "                bigrams = bigram_construct(words)\n",
    "                bigram_counter.update(bigrams)\n",
    "    return bigram_counter\n",
    "counter = word_counter(data_dir)\n",
    "counter.most_common()[:10]"
   ]
  },
  {
   "cell_type": "markdown",
   "metadata": {},
   "source": [
    "不考虑词性的结果如上；\n",
    "\n",
    "在不考虑词性的情况下，我们发现 “1997 年”是一个很有趣的搭配（可能语料库大部分是从那个年代截取的），另外，大部分搭配其实不是我们想要的词语搭配，而是字的搭配。\n",
    "\n",
    "### 1.b 考虑词性的频率方法"
   ]
  },
  {
   "cell_type": "code",
   "execution_count": 49,
   "metadata": {
    "collapsed": true
   },
   "outputs": [],
   "source": [
    "def word_counter(data_dir):\n",
    "    filenames = os.listdir(data_dir)\n",
    "    bigram_counter = Counter()\n",
    "    for filename in filenames:\n",
    "        with open(os.path.join(data_dir, filename), 'r') as F:\n",
    "            for line in F.readlines():\n",
    "                words = word_split_pos(line)\n",
    "                bigrams = bigram_construct(words)\n",
    "                bigram_counter.update(bigrams)\n",
    "    return bigram_counter\n",
    "counter = word_counter(data_dir)"
   ]
  },
  {
   "cell_type": "markdown",
   "metadata": {},
   "source": [
    "#### 名词/a + 形容词/n"
   ]
  },
  {
   "cell_type": "code",
   "execution_count": 50,
   "metadata": {},
   "outputs": [
    {
     "name": "stdout",
     "output_type": "stream",
     "text": [
      "(('贫困/a', '地区/n'), 70)\n",
      "(('伟大/a', '旗帜/n'), 68)\n",
      "(('友好/a', '合作/vn'), 68)\n",
      "(('困难/a', '职工/n'), 68)\n",
      "(('全/a', '社会/n'), 58)\n",
      "(('困难/a', '企业/n'), 53)\n",
      "(('新/a', '问题/n'), 52)\n",
      "(('高/a', '技术/n'), 52)\n",
      "(('新/a', '技术/n'), 50)\n",
      "(('贫困/a', '人口/n'), 48)\n"
     ]
    }
   ],
   "source": [
    "count = 0\n",
    "for bigram in counter.most_common():\n",
    "    if bigram[0][0].endswith('a') and bigram[0][1].endswith('n'):\n",
    "        print(bigram)\n",
    "        count += 1\n",
    "    if count == 10:\n",
    "        break"
   ]
  },
  {
   "cell_type": "markdown",
   "metadata": {},
   "source": [
    "#### 名词/n + 名词/n"
   ]
  },
  {
   "cell_type": "code",
   "execution_count": 51,
   "metadata": {},
   "outputs": [
    {
     "name": "stdout",
     "output_type": "stream",
     "text": [
      "(('领导/n', '干部/n'), 205)\n",
      "(('有关/vn', '部门/n'), 195)\n",
      "(('经济/n', '发展/vn'), 195)\n",
      "(('电/n', '记者/n'), 173)\n",
      "(('国有/vn', '企业/n'), 163)\n",
      "(('金融/n', '危机/n'), 150)\n",
      "(('下岗/vn', '职工/n'), 141)\n",
      "(('工作/vn', '会议/n'), 132)\n",
      "(('精神文明/n', '建设/vn'), 118)\n",
      "(('社会主义/n', '市场经济/n'), 108)\n"
     ]
    }
   ],
   "source": [
    "count = 0\n",
    "for bigram in counter.most_common():\n",
    "    if bigram[0][0].endswith('n') and bigram[0][1].endswith('n'):\n",
    "        print(bigram)\n",
    "        count += 1\n",
    "    if count == 10:\n",
    "        break"
   ]
  },
  {
   "cell_type": "markdown",
   "metadata": {},
   "source": [
    "上面分别给出了两种搭配的前十个词组。我们发现，相对于完全基于频率的方法，基于词性的方法可以有效地避免一些容易出现但我们并不想要地搭配(比如“1月”)。\n",
    "\n",
    "## 均值方差 方法"
   ]
  },
  {
   "cell_type": "code",
   "execution_count": 62,
   "metadata": {},
   "outputs": [
    {
     "data": {
      "text/plain": [
       "[[('记者', '月'), -3.9690721649484537, 0.17430120097778723, 1743, 2683],\n",
       " [('电', '１'), -3.9276546091015168, 0.16512787137023807, 995, 2636],\n",
       " [('）', '附'), -3.8724279835390947, 0.7779640637436706, 3577, 239],\n",
       " [('２２', '新华社'), -3.8333333333333335, 1.1388888888888888, 161, 943],\n",
       " [('摄', '。'), -3.803030303030303, 1.0672635445362715, 264, 29146],\n",
       " [('报道', '本报'), -3.7719298245614037, 0.842720837180671, 624, 1210],\n",
       " [('１５', '新华社'), -3.7586206896551726, 1.6313912009512488, 280, 943],\n",
       " [('５', '新华社'), -3.740740740740741, 1.7475994513031547, 852, 943],\n",
       " [('８', '新华社'), -3.740740740740741, 1.7475994513031547, 567, 943],\n",
       " [('讯', '１'), -3.731707317073171, 1.2207019631171923, 579, 2636]]"
      ]
     },
     "execution_count": 62,
     "metadata": {},
     "output_type": "execute_result"
    }
   ],
   "source": [
    "def bigram_construct_shift4(words):\n",
    "    \"\"\"\n",
    "    words: [w1, w2, w3..]\n",
    "    \"\"\"\n",
    "    bigrams = [None] * 4\n",
    "    for i in range(1,5): # 1,2,3,4\n",
    "        bigrams[i - 1] = list(zip(words[:-i], words[i:]))\n",
    "    return bigrams\n",
    "\n",
    "\n",
    "def counter(data_dir):\n",
    "    filenames = os.listdir(data_dir)\n",
    "    bigram_counters = [Counter(), Counter(), Counter(), Counter()]  # 1,2,3,4\n",
    "    for filename in filenames:\n",
    "        with open(os.path.join(data_dir, filename), 'r') as F:\n",
    "            for line in F.readlines():\n",
    "                words = word_split(line)\n",
    "                bigrams = bigram_construct_shift4(words)\n",
    "                [bigram_counters[i].update(bigrams[i]) for i in range(4)]\n",
    "    return bigram_counters\n",
    "\n",
    "def result_retrive(counters, word0, word1):\n",
    "    freq = [counters[i][(word1, word0)] for i in range(3,-1,-1)] + [0] + [counters[i][(word0, word1)] for i in range(0,4)]\n",
    "    mean = sum([freq[i] * (i-4) for i in range(9)]) / sum(freq) * 1.0\n",
    "    var = sum([((i-4)-mean)**2 * freq[i] for i in range(9)]) / sum(freq) * 1.0\n",
    "    return freq, mean, var\n",
    "counters = counter(data_dir)\n",
    "\n",
    "def mean_var_test(counters):\n",
    "    result_dict = dict()\n",
    "    total_word = sum(word_counter.values())\n",
    "    for bigram in chain(*counters):\n",
    "        if bigram in result_dict:\n",
    "            continue\n",
    "        freq, mean, var = result_retrive(counters, *bigram)\n",
    "        result_dict[bigram] = [mean, var, word_counter[bigram[0]], word_counter[bigram[1]]]\n",
    "    result_list = [[key, *val] for key, val in result_dict.items()]\n",
    "    return result_list\n",
    "\n",
    "mean_var_list = mean_var_test(counters)\n",
    "sorted(mean_var_list, key=lambda t_item : abs(t_item[1]-1))[:10]"
   ]
  },
  {
   "cell_type": "code",
   "execution_count": 69,
   "metadata": {},
   "outputs": [
    {
     "data": {
      "text/plain": [
       "[[('附', '图片'), 1.0, 0.0, 239, 498],\n",
       " [('图片', '１'), 1.0, 0.0, 498, 2636],\n",
       " [('江', '泽民'), 1.0, 0.0, 435, 349],\n",
       " [('１９９８', '年'), 1.0, 0.44029850746268656, 290, 4386],\n",
       " [('来临', '之际'), 1.0, 0.0, 38, 60],\n",
       " [('高兴', '地'), 1.0, 0.0, 90, 1911],\n",
       " [('人民', '广播'), 1.0, 0.0, 1286, 112],\n",
       " [('中国', '国际'), 1.0, 5.4576271186440675, 2760, 815],\n",
       " [('中央', '电视台'), 1.0, 0.0, 573, 113],\n",
       " [('各族', '人民'), 1.0, 0.0, 52, 1286]]"
      ]
     },
     "execution_count": 69,
     "metadata": {},
     "output_type": "execute_result"
    }
   ],
   "source": [
    "mean_var_list_filter = [x for x in mean_var_list if counters[0][x[0]] > 10]\n",
    "sorted(mean_var_list_filter, key=lambda t_item : abs(t_item[1]-1))[:10]"
   ]
  },
  {
   "cell_type": "code",
   "execution_count": 70,
   "metadata": {},
   "outputs": [
    {
     "data": {
      "text/plain": [
       "[[('附', '图片'), 1.0, 0.0, 239, 498],\n",
       " [('图片', '１'), 1.0, 0.0, 498, 2636],\n",
       " [('江', '泽民'), 1.0, 0.0, 435, 349],\n",
       " [('１９９８', '年'), 1.0, 0.44029850746268656, 290, 4386],\n",
       " [('中央', '电视台'), 1.0, 0.0, 573, 113],\n",
       " [('跨', '世纪'), 1.0, 0.0, 109, 362],\n",
       " [('成果', '。'), 1.0, 3.0120481927710845, 248, 29146],\n",
       " [('２１', '世纪'), 1.0, 0.0, 235, 362],\n",
       " [('以', '江'), 1.0, 0.0, 1946, 435],\n",
       " [('乔', '石'), 1.0, 0.0, 68, 126]]"
      ]
     },
     "execution_count": 70,
     "metadata": {},
     "output_type": "execute_result"
    }
   ],
   "source": [
    "mean_var_list_filter = [x for x in mean_var_list if counters[0][x[0]] > 50]\n",
    "sorted(mean_var_list_filter, key=lambda t_item : abs(t_item[1]-1))[:10]"
   ]
  },
  {
   "cell_type": "code",
   "execution_count": 71,
   "metadata": {},
   "outputs": [
    {
     "data": {
      "text/plain": [
       "[[('附', '图片'), 1.0, 0.0, 239, 498],\n",
       " [('图片', '１'), 1.0, 0.0, 498, 2636],\n",
       " [('江', '泽民'), 1.0, 0.0, 435, 349],\n",
       " [('１９９８', '年'), 1.0, 0.44029850746268656, 290, 4386],\n",
       " [('据', '新华社'), 1.0, 0.0, 833, 943],\n",
       " [('反', '腐败'), 1.0, 0.16363636363636364, 224, 176],\n",
       " [('北京', '１'), 1.0024213075060533, 0.2978149605145132, 1161, 2636],\n",
       " [('，', '它'), 0.9972067039106145, 4.069824599731594, 60380, 526],\n",
       " [('万', '元'), 1.0049261083743843, 0.4531777038996335, 1571, 1190],\n",
       " [('报道', '：'), 1.0049627791563276, 0.009900929135700608, 624, 2625]]"
      ]
     },
     "execution_count": 71,
     "metadata": {},
     "output_type": "execute_result"
    }
   ],
   "source": [
    "mean_var_list_filter = [x for x in mean_var_list if counters[0][x[0]] > 100]\n",
    "sorted(mean_var_list_filter, key=lambda t_item : abs(t_item[1]-1))[:10]"
   ]
  },
  {
   "cell_type": "code",
   "execution_count": null,
   "metadata": {
    "collapsed": true
   },
   "outputs": [],
   "source": []
  },
  {
   "cell_type": "code",
   "execution_count": 53,
   "metadata": {},
   "outputs": [
    {
     "data": {
      "image/png": "[encoded data removed]",
      "text/plain": [
       "<matplotlib.figure.Figure at 0x23a7c7e6da0>"
      ]
     },
     "metadata": {},
     "output_type": "display_data"
    },
    {
     "name": "stdout",
     "output_type": "stream",
     "text": [
      "freq=[0, 0, 0, 1, 0, 184, 2, 3, 1], mean=1.047120,var=0.139141\n"
     ]
    }
   ],
   "source": [
    "plt.figure(figsize=(15,7))\n",
    "freq, mean, var = result_retrive(counters, '改革', '开放')\n",
    "plt.bar(range(-4,5), freq)\n",
    "plt.show()\n",
    "print(\"freq=%s, mean=%f,var=%f\"%(result_retrive(counters, '改革', '开放')))"
   ]
  },
  {
   "cell_type": "markdown",
   "metadata": {},
   "source": [
    "从上面结果来看，一般情况下，“开放”在“改革”的下一个位置出现，而且极少例外。"
   ]
  },
  {
   "cell_type": "markdown",
   "metadata": {},
   "source": [
    "## 假设检验\n",
    "### t检验\n",
    "$$\n",
    "t = \\frac{\\hat{x}-\\mu}{\\sqrt{\\frac{s^2}{N}}} = \\frac{\\hat{x}-\\mu}{\\sqrt{\\frac{\\hat{x}}{N}}}~~~~~~~(课件第26页)\n",
    "$$"
   ]
  },
  {
   "cell_type": "code",
   "execution_count": 72,
   "metadata": {},
   "outputs": [
    {
     "data": {
      "text/plain": [
       "[[('１', '月'), 38.10007734104755, 1467, 2636, 2683],\n",
       " [('日', '电'), 29.02211005439933, 848, 2639, 995],\n",
       " [('１９９７', '年'), 25.250125493290135, 644, 674, 4386],\n",
       " [('这', '一'), 22.467510599052368, 538, 2611, 5925],\n",
       " [('两', '国'), 21.17947124555063, 451, 1603, 696],\n",
       " [('新', '的'), 20.812502868142857, 597, 1848, 43904],\n",
       " [('这', '是'), 20.303211042605685, 456, 2611, 7882],\n",
       " [('一', '种'), 20.180666050848945, 416, 5925, 680],\n",
       " [('北京', '１'), 19.833134356352723, 400, 1161, 2636],\n",
       " [('一', '年'), 19.344121327286953, 429, 5925, 4386]]"
      ]
     },
     "execution_count": 72,
     "metadata": {},
     "output_type": "execute_result"
    }
   ],
   "source": [
    "def counter(data_dir):\n",
    "    filenames = os.listdir(data_dir)\n",
    "    bigram_counter = Counter()\n",
    "    word_counter = Counter()\n",
    "    for filename in filenames:\n",
    "        with open(os.path.join(data_dir, filename), 'r') as F:\n",
    "            for line in F.readlines():\n",
    "                words = word_split(line)\n",
    "                bigrams = bigram_construct(words)\n",
    "                word_counter.update(words)\n",
    "                bigram_counter.update(bigrams)\n",
    "    return bigram_counter, word_counter\n",
    "\n",
    "# bigram_counter, word_counter = counter(data_dir)\n",
    "\n",
    "def t_test(bigram_counter, word_counter):\n",
    "    result_list = list()\n",
    "    total_word = sum(word_counter.values())\n",
    "    for bigram in bigram_counter.keys():\n",
    "        mu = (word_counter[bigram[0]] * word_counter[bigram[1]] * 1.0) / (total_word**2)\n",
    "        t = (bigram_counter[bigram] / total_word - mu) / math.sqrt(bigram_counter[bigram] * 1.0 / total_word**2)\n",
    "        result_list.append([bigram, t, bigram_counter[bigram], word_counter[bigram[0]], word_counter[bigram[1]]])\n",
    "    return result_list\n",
    "t_list = t_test(*counter(data_dir))\n",
    "sorted(t_list, key=lambda t_item : t_item[1], reverse = True)[:10]"
   ]
  },
  {
   "cell_type": "markdown",
   "metadata": {},
   "source": [
    "### $\\chi^2$检验\n",
    "\n",
    "$$\n",
    "\\chi^2 = \\frac{N(O_{11}O_{22}-O_{12}O_{21})}{(O_{11}+ O_{12})(O_{11}+ O_{21})(O_{12}+ O_{22})(O_{21}+ O_{22})}\n",
    "$$"
   ]
  },
  {
   "cell_type": "code",
   "execution_count": 73,
   "metadata": {},
   "outputs": [
    {
     "data": {
      "text/plain": [
       "[[('年发电量', '四十五亿'), 917024.0, 1, 1, 1],\n",
       " [('支槽', '云系'), 917024.0, 1, 1, 1],\n",
       " [('完钻', '交井'), 917024.0, 1, 1, 1],\n",
       " [('客货', '滚装'), 917024.0, 1, 1, 1],\n",
       " [('劳工', '远涉重洋'), 917024.0, 1, 1, 1],\n",
       " [('甄', '炳禧'), 917024.0, 1, 1, 1],\n",
       " [('瓦楞', '纸板箱'), 917024.0, 1, 1, 1],\n",
       " [('氧化', '物化'), 917024.0, 1, 1, 1],\n",
       " [('物化', '歧化酶'), 917024.0, 1, 1, 1],\n",
       " [('东方红牌', '履带'), 917024.0, 1, 1, 1]]"
      ]
     },
     "execution_count": 73,
     "metadata": {},
     "output_type": "execute_result"
    }
   ],
   "source": [
    "def counter(data_dir):\n",
    "    filenames = os.listdir(data_dir)\n",
    "    bigram_counter = Counter()\n",
    "    word_counter = Counter()\n",
    "    for filename in filenames:\n",
    "        with open(os.path.join(data_dir, filename), 'r') as F:\n",
    "            for line in F.readlines():\n",
    "                words = word_split(line)\n",
    "                bigrams = bigram_construct(words)\n",
    "                word_counter.update(words)\n",
    "                bigram_counter.update(bigrams)\n",
    "    return bigram_counter, word_counter\n",
    "\n",
    "bigram_counter, word_counter = counter(data_dir)\n",
    "\n",
    "def chi2_test(bigram_counter, word_counter):\n",
    "    result_list = list()\n",
    "    total_word = sum(word_counter.values())\n",
    "    for bigram in bigram_counter.keys():\n",
    "        O11 = bigram_counter[bigram]\n",
    "        e1 = word_counter[bigram[0]]\n",
    "        e2 = word_counter[bigram[1]]\n",
    "        O12 = e1 - O11\n",
    "        O21 = e2 - O11\n",
    "        O22 = total_word - O11 - O12 - O21  # not truely correct\n",
    "        chi = (total_word * (O11*O22 - O12*O21)**2 * 1.0) / ((O11+O12)*(O11+O21)*(O12+O22)*(O21+O22))\n",
    "        result_list.append([bigram, chi, bigram_counter[bigram], word_counter[bigram[0]], word_counter[bigram[1]]])\n",
    "    return result_list\n",
    "chi2_list = chi2_test(*counter(data_dir))\n",
    "sorted(chi2_list, key=lambda t_item : t_item[1], reverse = True)[:10]"
   ]
  },
  {
   "cell_type": "code",
   "execution_count": 74,
   "metadata": {},
   "outputs": [
    {
     "data": {
      "text/plain": [
       "[[('取保', '候审'), 917023.9999999999, 17, 17, 17],\n",
       " [('尉', '健行'), 871169.9498228399, 57, 60, 57],\n",
       " [('常任', '理事国'), 840604.4166556709, 11, 12, 11],\n",
       " [('配电', '变压器'), 809137.0587946632, 15, 15, 17],\n",
       " [('薄', '一波'), 775939.9999187989, 22, 26, 22],\n",
       " [('辛', '业江'), 755193.7646681638, 14, 17, 14],\n",
       " [('迟', '浩田'), 733610.3995777444, 44, 55, 44],\n",
       " [('江', '泽民'), 714720.3789405614, 344, 435, 349],\n",
       " [('防震', '减灾'), 711278.8268901174, 11, 12, 13],\n",
       " [('童', '志成'), 667981.2929154019, 50, 66, 52]]"
      ]
     },
     "execution_count": 74,
     "metadata": {},
     "output_type": "execute_result"
    }
   ],
   "source": [
    "chi2_list_filter = [x for x in chi2_list if x[2] > 10 and x[3]>10]\n",
    "sorted(chi2_list_filter, key=lambda t_item : t_item[1], reverse = True)[:10]"
   ]
  },
  {
   "cell_type": "markdown",
   "metadata": {},
   "source": [
    "上面是$\\chi^2$检验的结果.当bigram的两个词都是低频词的时候,$\\chi^2$的值会比较大，因此，我们对结果进行了进一步筛选，得到图2的结果。图2中，可以看出，$\\chi^2$的结果中已经优于t-test，但是仍然不能让人满意。"
   ]
  },
  {
   "cell_type": "markdown",
   "metadata": {},
   "source": [
    "## 点对互信息\n",
    "$$\n",
    "I(x;y) = \\log{\\frac{p(x,y)}{p(x)p(y)}}\n",
    "$$"
   ]
  },
  {
   "cell_type": "code",
   "execution_count": 75,
   "metadata": {},
   "outputs": [
    {
     "data": {
      "text/plain": [
       "[[('年发电量', '四十五亿'), 19.80659996641187, 1, 1, 1],\n",
       " [('支槽', '云系'), 19.80659996641187, 1, 1, 1],\n",
       " [('完钻', '交井'), 19.80659996641187, 1, 1, 1],\n",
       " [('客货', '滚装'), 19.80659996641187, 1, 1, 1],\n",
       " [('劳工', '远涉重洋'), 19.80659996641187, 1, 1, 1],\n",
       " [('甄', '炳禧'), 19.80659996641187, 1, 1, 1],\n",
       " [('瓦楞', '纸板箱'), 19.80659996641187, 1, 1, 1],\n",
       " [('氧化', '物化'), 19.80659996641187, 1, 1, 1],\n",
       " [('物化', '歧化酶'), 19.80659996641187, 1, 1, 1],\n",
       " [('东方红牌', '履带'), 19.80659996641187, 1, 1, 1]]"
      ]
     },
     "execution_count": 75,
     "metadata": {},
     "output_type": "execute_result"
    }
   ],
   "source": [
    "def counter(data_dir):\n",
    "    filenames = os.listdir(data_dir)\n",
    "    bigram_counter = Counter()\n",
    "    word_counter = Counter()\n",
    "    for filename in filenames:\n",
    "        with open(os.path.join(data_dir, filename), 'r') as F:\n",
    "            for line in F.readlines():\n",
    "                words = word_split(line)\n",
    "                bigrams = bigram_construct(words)\n",
    "                word_counter.update(words)\n",
    "                bigram_counter.update(bigrams)\n",
    "    return bigram_counter, word_counter\n",
    "\n",
    "bigram_counter, word_counter = counter(data_dir)\n",
    "\n",
    "def mut_info_test(bigram_counter, word_counter):\n",
    "    result_list = list()\n",
    "    total_word = sum(word_counter.values())\n",
    "    for bigram in bigram_counter.keys():\n",
    "        O11 = bigram_counter[bigram]\n",
    "        e1 = word_counter[bigram[0]]\n",
    "        e2 = word_counter[bigram[1]]\n",
    "        mut_info = math.log2 (O11 * total_word * 1.0 / (e1 * e2))\n",
    "        result_list.append([bigram, mut_info, bigram_counter[bigram], word_counter[bigram[0]], word_counter[bigram[1]]])\n",
    "    return result_list\n",
    "mut_info_list = mut_info_test(*counter(data_dir))\n",
    "sorted(mut_info_list, key=lambda t_item : t_item[1], reverse = True)[:10]"
   ]
  },
  {
   "cell_type": "code",
   "execution_count": 76,
   "metadata": {},
   "outputs": [
    {
     "data": {
      "text/plain": [
       "[[('常任', '理事国'), 16.221637465690712, 11, 12, 11],\n",
       " [('防震', '减灾'), 15.980629366186918, 11, 12, 13],\n",
       " [('淘', '粪'), 15.873714162270407, 11, 12, 14],\n",
       " [('配电', '变压器'), 15.71913712516153, 15, 15, 17],\n",
       " [('取保', '候审'), 15.71913712516153, 17, 17, 17],\n",
       " [('辛', '业江'), 15.71913712516153, 14, 17, 14],\n",
       " [('轮值', '主席国'), 15.347168347774572, 14, 14, 22],\n",
       " [('伍', '绍祖'), 15.106160248270777, 16, 26, 16],\n",
       " [('薄', '一波'), 15.106160248270777, 22, 26, 22],\n",
       " [('防盗', '报警器'), 14.932130848495728, 15, 20, 22]]"
      ]
     },
     "execution_count": 76,
     "metadata": {},
     "output_type": "execute_result"
    }
   ],
   "source": [
    "mut_info_list_filter = [x for x in mut_info_list if x[2] > 10 and x[3]>10]\n",
    "sorted(mut_info_list_filter, key=lambda t_item : t_item[1], reverse = True)[:10]"
   ]
  },
  {
   "cell_type": "markdown",
   "metadata": {},
   "source": [
    "上述结果是互信息的结果，从结果来看，互信息与$\\chi^2$比较相似，低频此往往拥有较大的互信息。"
   ]
  }
 ],
 "metadata": {
  "kernelspec": {
   "display_name": "Python 3",
   "language": "python",
   "name": "python3"
  },
  "language_info": {
   "codemirror_mode": {
    "name": "ipython",
    "version": 3
   },
   "file_extension": ".py",
   "mimetype": "text/x-python",
   "name": "python",
   "nbconvert_exporter": "python",
   "pygments_lexer": "ipython3",
   "version": "3.6.3"
  }
 },
 "nbformat": 4,
 "nbformat_minor": 2
}
